{
 "cells": [
  {
   "cell_type": "markdown",
   "id": "43002ade-e6b1-4375-8a1d-bd3786c97b36",
   "metadata": {
    "tags": []
   },
   "source": [
    "# A quick introduction to T<sub>c</sub>1D\n",
    "\n",
    "This is a Jupyter notebook, an interactive web application, that can be used to run numerical simulations using the T<sub>c</sub>1D software. Below you will find some general information about the software, instructions about how to modify and run models, and produce and save plots. In addition you can find lists of model parameters that can be varied.\n",
    "\n",
    "## Links for the impatient (UPDATE)\n",
    "\n",
    "- [Using this notebook](#Using-this-notebook)\n",
    "- [Producing plots with this notebook](#Producing-plots-using-this-notebook)\n",
    "    - [Preparing to plot (**must run this first before making any plots**)](#Preparing-to-plot)\n",
    "    - [Time-temperature history (manuscript Figure 1)](#Figure-1---A-time-temperature-cooling-history)\n",
    "    - [Ages and closure temperatures for different eU and grain radii (Figures 2 and 3)](#Figures-2-and-3---Ages-and-closure-temperatures-for-different-eU-and-grain-radii)\n",
    "        - [Plotting your own data](#Plotting-age-data-on-the-figures)\n",
    "    - [Closure temperatures for different cooling rates, grain radii, and eU (manuscript Figure 4)](#Figure-4---Closure-temperatures-as-a-function-of-cooling-rate,-grain-radius,-and-eU)\n",
    "    - [Ages and closure temperatures for different cooling rates and eU (manuscript Figure 5)](#Figure-5---Ages-and-closure-temperatures-for-different-cooling-rates-and-eU)\n",
    "- [Frequently asked questions](#Frequently-asked-questions)\n",
    "\n",
    "## Attribution\n",
    "\n",
    "If you use plots produced by this software, please cite the following:\n",
    "\n",
    "- D. Whipp. (2022). HUGG/TC1D: v0.1 (v0.1). Zenodo. https://doi.org/10.5281/zenodo.7124272.\n",
    "\n",
    "The age prediction software used for calculating apatite and zircon (U-Th)/He and apatite fission-track ages was written by Richard Ketcham at the University of Texas, USA. Results published using this software should cite the articles below:\n",
    "\n",
    "- Ketcham, R. A., Donelick, R. A., & Carlson, W. D.: Variability of apatite fission-track annealing kinetics III: Extrapolation to geological time scales. American Mineralogist, 84, 1235-1255, doi: [10.2138/am-1999-0903](https://doi.org/10.2138/am-1999-0903), 1999.\n",
    "\n",
    "- Ketcham, R. A., Mora, A., and Parra, M.: Deciphering exhumation and burial history with multi-sample down-well thermochronometric inverse modelling, Basin Res., 30, 48-64, [10.1111/bre.12207](https://doi.org/10.1111/bre.12207), 2018.\n",
    "\n",
    "# Using this notebook\n",
    "\n",
    "It is easy to get started reproducing or customizing versions of the plots using this notebook. Below you will find some general information about the notebook environment and examples of each plot from the article.\n",
    "\n",
    "## Using a Jupyter notebook\n",
    "\n",
    "A Jupyter notebook is a document that combines rich text formatting (like that in a word processor or website) with programming language code. The notebook itself is divided into blocks called cells that have a defined cell type, which means a cell can either contain rich text, code, or raw unformatted text (but not a mix). For us, the main concern will be code cells and how to run them, as that will be the way to produce a plot.\n",
    "\n",
    "### Running a code cell\n",
    "\n",
    "To run a code cell, simply click on the cell containing code and press one of the following key combinations:\n",
    "\n",
    "- <kbd>shift</kbd> + <kbd>enter</kbd> or \n",
    "- <kbd>shift</kbd> + <kbd>return</kbd>\n",
    "\n",
    "On a Mac keyboard the <kbd>shift</kbd> keys have arrows pointing up and the <kbd>return</kbd> is on the far right with a bent arrow pointing left.\n",
    "\n",
    "Let's test this out with an example below, just to make sure the environment is working. Click on the code cell below and then press <kbd>shift</kbd> + <kbd>enter</kbd> or <kbd>shift</kbd> + <kbd>return</kbd> to run it."
   ]
  },
  {
   "cell_type": "code",
   "execution_count": null,
   "id": "d1416a0d-da60-4b69-916c-a545a6d65c58",
   "metadata": {
    "tags": []
   },
   "outputs": [],
   "source": [
    "print(f\"The sum of 22222 plus 1234 is {22222 + 1234}.\")"
   ]
  },
  {
   "cell_type": "markdown",
   "id": "ea115d07-a74a-4ba6-8fc6-5d75e4208fba",
   "metadata": {},
   "source": [
    "If all has gone well you should see the resulting text that reads\n",
    "\n",
    "```\n",
    "The sum of 22222 plus 1234 is 23456.\n",
    "```\n",
    "\n",
    "and your Jupyter notebook is working properly. Just remember that in order to run any subsequent code cells you simply press <kbd>shift</kbd> + <kbd>enter</kbd> or <kbd>shift</kbd> + <kbd>return</kbd>.\n",
    "\n",
    "## Using Binder\n",
    "\n",
    "[Binder](https://mybinder.org/) is a cloud computing platform that provides the computing used to run a Jupyter notebook free of charge. You are most likely using Binder right now if you have opened this notebook and the code example above works. You don't really need to know much about Binder in order to use it, however, there is one important note about Binder: **Your session will die and your notebook will stop function after about 10 minutes of inactivity**. This means you may lose any progress you have made in the notebook after this time elapses. If you want to keep your session alive, be sure to run at least one code cell every 10 minutes. Once the session dies...\n",
    "\n",
    "You can find more information about Binder in the [Binder user guide](https://mybinder.readthedocs.io/en/latest/index.html)."
   ]
  },
  {
   "cell_type": "markdown",
   "id": "a5216572-8b25-45c3-9aca-697c4513654d",
   "metadata": {},
   "source": [
    "# Running T<sub>c</sub>1D\n",
    "\n",
    "With the necessary background out of the way we can now move forward to running a first model.\n",
    "\n",
    "## Preparing to run a model\n",
    "\n",
    "Before starting, **you must run the code cell below first** to load the T<sub>c</sub>1D code into memory. Note that lines starting with the `#` character are comment lines that can be used for documentation, but are not executed as Python commands."
   ]
  },
  {
   "cell_type": "code",
   "execution_count": null,
   "id": "f039a820-910d-473f-a325-b8cf20f000ce",
   "metadata": {
    "tags": []
   },
   "outputs": [],
   "source": [
    "# Load Tc1D\n",
    "import tc1d"
   ]
  },
  {
   "cell_type": "markdown",
   "id": "f48c629f-38fa-4131-bb4a-7f8c1b3e4e45",
   "metadata": {},
   "source": [
    "## Defining the model parameters\n",
    "\n",
    "TEXT HERE."
   ]
  },
  {
   "cell_type": "code",
   "execution_count": null,
   "id": "e2070c02-c0de-4aee-ac8d-829ae71bb7bd",
   "metadata": {
    "tags": []
   },
   "outputs": [],
   "source": [
    "params = tc1d.init_params(time=20.0, ero_option1=10.0, implicit=False, dt=500.0)"
   ]
  },
  {
   "cell_type": "markdown",
   "id": "6267d20f-20d7-426b-8a4e-8cfc3bd84a7f",
   "metadata": {},
   "source": [
    "## Starting the model\n",
    "\n",
    "TEXT HERE."
   ]
  },
  {
   "cell_type": "code",
   "execution_count": null,
   "id": "5f4eb378-d19e-402d-8715-bc8e56c4371c",
   "metadata": {
    "tags": []
   },
   "outputs": [],
   "source": [
    "tc1d.prep_model(params)"
   ]
  },
  {
   "cell_type": "code",
   "execution_count": null,
   "id": "3fcc9b90-2c25-4d4f-b953-1b7f00a64086",
   "metadata": {},
   "outputs": [],
   "source": []
  }
 ],
 "metadata": {
  "kernelspec": {
   "display_name": "Python 3 (ipykernel)",
   "language": "python",
   "name": "python3"
  },
  "language_info": {
   "codemirror_mode": {
    "name": "ipython",
    "version": 3
   },
   "file_extension": ".py",
   "mimetype": "text/x-python",
   "name": "python",
   "nbconvert_exporter": "python",
   "pygments_lexer": "ipython3",
   "version": "3.10.9"
  }
 },
 "nbformat": 4,
 "nbformat_minor": 5
}
