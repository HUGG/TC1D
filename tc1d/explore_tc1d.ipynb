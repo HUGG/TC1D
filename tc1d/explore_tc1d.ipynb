{
 "cells": [
  {
   "cell_type": "markdown",
   "id": "43002ade-e6b1-4375-8a1d-bd3786c97b36",
   "metadata": {
    "tags": []
   },
   "source": [
    "# A quick introduction to T<sub>c</sub>1D\n",
    "\n",
    "This is a Jupyter notebook, an interactive web application, that can be used to run numerical simulations using the T<sub>c</sub>1D software. Below you will find some general information about the software, instructions about how to modify and run models, and produce and save plots. In addition you can find lists of model parameters that can be varied.\n",
    "\n",
    "## Links for the impatient\n",
    "\n",
    "- [Using this notebook](#Using-this-notebook)\n",
    "- [Running T<sub>c</sub>1D](#Running-Tc1D)\n",
    "    - [Preparing to run a model (**must run this first before doing anything**)](#Preparing-to-run-a-model)\n",
    "    - [Defining the model parameters](#Defining-the-model-parameters)\n",
    "    - [Starting a model](#Starting-the-model)\n",
    "    - [Saving the plots](#Saving-the-plots)\n",
    "- [Examples](#Examples)\n",
    "    - [Erosion model examples](#Erosion-model-examples)\n",
    "    - [Examples of other code options](#Examples-of-code-options)\n",
    "- [Details on the model parameters](#Details-on-model-parameters)\n",
    "- [Frequently asked questions](#Frequently-asked-questions)\n",
    "\n",
    "## Attribution\n",
    "\n",
    "If you use plots produced by this software, please cite the following:\n",
    "\n",
    "- D. Whipp. (2022). HUGG/TC1D: v0.1 (v0.1). Zenodo. https://doi.org/10.5281/zenodo.7124272.\n",
    "\n",
    "The age prediction software used for calculating apatite and zircon (U-Th)/He and apatite fission-track ages was written by Richard Ketcham at the University of Texas, USA. Results published using this software should cite the articles below:\n",
    "\n",
    "- Ketcham, R. A., Donelick, R. A., & Carlson, W. D.: Variability of apatite fission-track annealing kinetics III: Extrapolation to geological time scales. American Mineralogist, 84, 1235-1255, doi: [10.2138/am-1999-0903](https://doi.org/10.2138/am-1999-0903), 1999.\n",
    "\n",
    "- Ketcham, R. A., Mora, A., and Parra, M.: Deciphering exhumation and burial history with multi-sample down-well thermochronometric inverse modelling, Basin Res., 30, 48-64, [10.1111/bre.12207](https://doi.org/10.1111/bre.12207), 2018.\n",
    "\n",
    "# Using this notebook\n",
    "\n",
    "It is easy to get started reproducing or customizing versions of the plots using this notebook. Below you will find some general information about the notebook environment and examples of each plot from the article.\n",
    "\n",
    "## Using a Jupyter notebook\n",
    "\n",
    "A Jupyter notebook is a document that combines rich text formatting (like that in a word processor or website) with programming language code. The notebook itself is divided into blocks called cells that have a defined cell type, which means a cell can either contain rich text, code, or raw unformatted text (but not a mix). For us, the main concern will be code cells and how to run them, as that will be the way to produce a plot.\n",
    "\n",
    "### Running a code cell\n",
    "\n",
    "To run a code cell, simply click on the cell containing code and press one of the following key combinations:\n",
    "\n",
    "- <kbd>shift</kbd> + <kbd>enter</kbd> or \n",
    "- <kbd>shift</kbd> + <kbd>return</kbd>\n",
    "\n",
    "On a Mac keyboard the <kbd>shift</kbd> keys have arrows pointing up and the <kbd>return</kbd> is on the far right with a bent arrow pointing left.\n",
    "\n",
    "Let's test this out with an example below, just to make sure the environment is working. Click on the code cell below and then press <kbd>shift</kbd> + <kbd>enter</kbd> or <kbd>shift</kbd> + <kbd>return</kbd> to run it."
   ]
  },
  {
   "cell_type": "code",
   "execution_count": null,
   "id": "d1416a0d-da60-4b69-916c-a545a6d65c58",
   "metadata": {
    "tags": []
   },
   "outputs": [],
   "source": [
    "print(f\"The sum of 22222 plus 1234 is {22222 + 1234}.\")"
   ]
  },
  {
   "cell_type": "markdown",
   "id": "ea115d07-a74a-4ba6-8fc6-5d75e4208fba",
   "metadata": {},
   "source": [
    "If all has gone well you should see the resulting text that reads\n",
    "\n",
    "```\n",
    "The sum of 22222 plus 1234 is 23456.\n",
    "```\n",
    "\n",
    "and your Jupyter notebook is working properly. Just remember that in order to run any subsequent code cells you simply press <kbd>shift</kbd> + <kbd>enter</kbd> or <kbd>shift</kbd> + <kbd>return</kbd>.\n",
    "\n",
    "## Using Binder\n",
    "\n",
    "[Binder](https://mybinder.org/) is a cloud computing platform that provides the computing used to run a Jupyter notebook free of charge. You are most likely using Binder right now if you have opened this notebook and the code example above works. You don't really need to know much about Binder in order to use it, however, there is one important note about Binder: **Your session will die and your notebook will stop functioning after about 10 minutes of inactivity**. This means you may lose any progress you have made in the notebook after this time elapses. If you want to keep your session alive, be sure to run at least one code cell every 10 minutes. Once the session dies...\n",
    "\n",
    "You can find more information about Binder in the [Binder user guide](https://mybinder.readthedocs.io/en/latest/index.html)."
   ]
  },
  {
   "cell_type": "markdown",
   "id": "a5216572-8b25-45c3-9aca-697c4513654d",
   "metadata": {},
   "source": [
    "# Running T<sub>c</sub>1D\n",
    "\n",
    "With the necessary background out of the way we can now move forward to running a first model.\n",
    "\n",
    "## Preparing to run a model\n",
    "\n",
    "Before starting, **you must run the code cell below first** to load the T<sub>c</sub>1D code into memory. Note that lines starting with the `#` character are comment lines that can be used for documentation, but are not executed as Python commands."
   ]
  },
  {
   "cell_type": "code",
   "execution_count": null,
   "id": "f039a820-910d-473f-a325-b8cf20f000ce",
   "metadata": {
    "tags": []
   },
   "outputs": [],
   "source": [
    "# Load Tc1D\n",
    "import tc1d"
   ]
  },
  {
   "cell_type": "markdown",
   "id": "f48c629f-38fa-4131-bb4a-7f8c1b3e4e45",
   "metadata": {},
   "source": [
    "## Defining the model parameters\n",
    "\n",
    "Model parameters for a T<sub>c</sub>1D model are defined using the `tc1d.init_params()` function. In the example below we will set the following parameters:\n",
    "\n",
    "- Model run simulation time: 20 Myr (`time=20.0`)\n",
    "- Erosion magnitude: 10 km (`ero_option1=10.0`)\n",
    "    - **Note**: Some parameters like `ero_option1` do different things depending on the selected erosion model. In this case, T<sub>c</sub>1D defaults to erosion model 1 (`ero_type=1`) if nothing is set for that parameter. For erosion model 1 `ero_option1` sets the total erosion magnitude, which will be distributed linearly over the simulation time. In this instance, we have a constant erosion rate of 0.5 mm/yr.\n",
    "- Thermal model calculation type: Explicit (`implicit=False`)\n",
    "- Time step: 500 years (`dt=500.0`)\n",
    "\n",
    "We can define the model parameters by running the cell below."
   ]
  },
  {
   "cell_type": "code",
   "execution_count": null,
   "id": "e2070c02-c0de-4aee-ac8d-829ae71bb7bd",
   "metadata": {
    "tags": []
   },
   "outputs": [],
   "source": [
    "params = tc1d.init_params(time=20.0, ero_option1=10.0, implicit=False, dt=500.0)"
   ]
  },
  {
   "cell_type": "markdown",
   "id": "13b9c6b8-9214-44c9-b6d6-9c9dff129da5",
   "metadata": {},
   "source": [
    "You can have a quick look at all of the possible parameters you can set for the `tc1d.init_params()` function by running `help(tc1d.init_params)`. A more detailed list of the parameters and their possible values can be found [at the end of this notebook](#Details-on-model-parameters). Complete documentation coming soon."
   ]
  },
  {
   "cell_type": "code",
   "execution_count": null,
   "id": "be1a854b-6b81-41dd-9752-9d6353e6eb16",
   "metadata": {
    "tags": []
   },
   "outputs": [],
   "source": [
    "help(tc1d.init_params)"
   ]
  },
  {
   "cell_type": "markdown",
   "id": "6267d20f-20d7-426b-8a4e-8cfc3bd84a7f",
   "metadata": {},
   "source": [
    "## Starting the model\n",
    "\n",
    "Once the model parameters have been defined you can run a T<sub>c</sub>1D simulation using the `tc1d.prep_model()` function. With this function, the only parameter you pass is always `params`. You can start the model by running the cell below.\n",
    "\n",
    "**Note**: It is important to note that you must always run the `tc1d.init_params()` function prior to running a simulation with T<sub>c</sub>1D using the `tc1d.prep_model()` function. The `tc1d.init_params()` defines the model parameters for the simulation and if you do not run that first, the code will use the parameters defined the last time you ran the `tc1d.init_params()` function. In the examples below you will notice that both functions are run in the same cell to ensure that the model parameters are always set before running the model."
   ]
  },
  {
   "cell_type": "code",
   "execution_count": null,
   "id": "5f4eb378-d19e-402d-8715-bc8e56c4371c",
   "metadata": {
    "tags": []
   },
   "outputs": [],
   "source": [
    "tc1d.prep_model(params)"
   ]
  },
  {
   "cell_type": "markdown",
   "id": "58e3bba7-d27b-4433-b621-f9437be81533",
   "metadata": {},
   "source": [
    "## Saving the plots\n",
    "\n",
    "The output plots can be saved using the `save_plots` parameter, as demonstrated below.\n",
    "\n",
    "The plots will be saved in the `png` directory. You can navigate to that directory by clicking on the switch on the bottom left to turn off Simple view, and then use the file browser to navigate to the png folder. To download the plot, simply right-click on the filename and then select **Download** from the menu that appears."
   ]
  },
  {
   "cell_type": "code",
   "execution_count": null,
   "id": "1e383ffa-6acd-4e09-a5eb-c6c494a1cbc0",
   "metadata": {
    "tags": []
   },
   "outputs": [],
   "source": [
    "params = tc1d.init_params(\n",
    "    time=20.0, ero_option1=10.0, implicit=False, dt=500.0, save_plots=True\n",
    ")\n",
    "tc1d.prep_model(params)"
   ]
  },
  {
   "cell_type": "markdown",
   "id": "ee372c9f-4033-46fc-a91e-a05a46834c00",
   "metadata": {},
   "source": [
    "# Examples\n",
    "\n",
    "## About the examples\n",
    "\n",
    "- As a reminder, with T<sub>c</sub>1D you must always first initialize the parameters using the `tc1d.init_params()` function before running the model with the `tc1d.prep_model(params)` function. Naturally, are set up this way.\n",
    "- To make things simple, the models will use default parameters other than the parameters varied in the example. That means that the implicit solver will be used (which may be slow in Binder) and the run time will be 50 Myr."
   ]
  },
  {
   "cell_type": "markdown",
   "id": "08942875-5cb0-49f9-9418-68437d010f28",
   "metadata": {},
   "source": [
    "## Erosion model examples\n",
    "\n",
    "### Constant rate of exhumation\n",
    "\n",
    "The default erosion model is used for simulating a constant rate of exhumation with one associated parameter.\n",
    "\n",
    "- Erosion model: 1 (`ero_type=1`)\n",
    "- Erosion magnitude: 20 km (`ero_option1=20.0`)"
   ]
  },
  {
   "cell_type": "code",
   "execution_count": null,
   "id": "68af8884-7341-40ed-8ce6-4080a580160a",
   "metadata": {
    "tags": []
   },
   "outputs": [],
   "source": [
    "params = tc1d.init_params(ero_type=1, ero_option1=20.0)\n",
    "tc1d.prep_model(params)"
   ]
  },
  {
   "cell_type": "markdown",
   "id": "207a3789-39a1-4f12-88ad-c81df1ced10c",
   "metadata": {},
   "source": [
    "### Step-function change in exhumation rate\n",
    "\n",
    "The step-function erosion model is used for simulating a exhumation with a step-function change in exhumation rate at a specified time. It has three associated parameters.\n",
    "\n",
    "- Erosion model: 2 (`ero_type=2`)\n",
    "- Erosion magnitude in first phase: 2 km (`ero_option1=2.0`)\n",
    "- Time into model simulation when rate changes: 20 Myr (`ero_option2=20.0`)\n",
    "- Erosion magnitude in second phase: 12 km (`ero_option3=12.0`)"
   ]
  },
  {
   "cell_type": "code",
   "execution_count": null,
   "id": "05228ad4-a306-4109-a57c-e4aaeabb8206",
   "metadata": {
    "tags": []
   },
   "outputs": [],
   "source": [
    "params = tc1d.init_params(\n",
    "    ero_type=2, ero_option1=2.0, ero_option2=20.0, ero_option3=12.0\n",
    ")\n",
    "tc1d.prep_model(params)"
   ]
  },
  {
   "cell_type": "markdown",
   "id": "c32fb829-498f-45ae-99f7-942e176ddefb",
   "metadata": {},
   "source": [
    "#### Burial and exhumation\n",
    "\n",
    "Burial and exhumation is a special case of the step-function erosion model with a first exhumation phase that has a negative value (i.e., sedimentation).\n",
    "\n",
    "In this case we use the following parameters:\n",
    "\n",
    "- Erosion model: 2 (`ero_type=2`)\n",
    "- Erosion magnitude in first phase: -9 km (`ero_option1=-9.0`)\n",
    "- Time into model simulation when rate changes: 10 Myr (`ero_option2=10.0`)\n",
    "- Erosion magnitude in second phase: 10 km (`ero_option3=10.0`)"
   ]
  },
  {
   "cell_type": "code",
   "execution_count": null,
   "id": "45faeb0d-9054-4d50-90e1-862f3925c798",
   "metadata": {},
   "outputs": [],
   "source": [
    "params = tc1d.init_params(\n",
    "    ero_type=2, ero_option1=-9.0, ero_option2=10.0, ero_option3=10.0\n",
    ")\n",
    "tc1d.prep_model(params)"
   ]
  },
  {
   "cell_type": "markdown",
   "id": "c927badd-2bc5-4349-b87b-037ca72c18c6",
   "metadata": {},
   "source": [
    "### Exponential exhumation rate decay\n",
    "\n",
    "Example to be added soon...\n",
    "\n",
    "### Thrust-sheet emplacement\n",
    "\n",
    "Example to be added soon...\n",
    "\n",
    "### Tectonic exhumation\n",
    "\n",
    "Example to be added soon...\n",
    "\n",
    "### Linear increase in the rate of exhumation\n",
    "\n",
    "Example to be added soon...\n",
    "\n",
    "## Examples of code options\n",
    "\n",
    "### Mantle delamination\n",
    "\n",
    "In this example we will use the same case as for the first erosion model example, but completely remove the mantle lithosphere at the start of the simulation. The model parameters in the case are:\n",
    "\n",
    "- Erosion model: 1 (`ero_type=1`)\n",
    "- Erosion magnitude: 20 km (`ero_option1=20.0`)\n",
    "- Mantle removal fraction: 1.0 (`removal_fraction=1.0`)\n",
    "- Mantle removal time: 0 Myr (`removal_time=0.0`)"
   ]
  },
  {
   "cell_type": "code",
   "execution_count": null,
   "id": "5f6f04e2-cff5-4109-903a-1bee67c27ba7",
   "metadata": {
    "tags": []
   },
   "outputs": [],
   "source": [
    "params = tc1d.init_params(\n",
    "    ero_type=1, ero_option1=20.0, removal_fraction=1.0, removal_time=0.0\n",
    ")\n",
    "tc1d.prep_model(params)"
   ]
  },
  {
   "cell_type": "markdown",
   "id": "9d2a0edd-7f1a-4fec-a4e9-67c6eaae2f6e",
   "metadata": {},
   "source": [
    "### Changing timing for geotherm plots\n",
    "\n",
    "Example to be added soon...\n",
    "\n",
    "### Fixing the Moho depth (exhuming only the crust)\n",
    "\n",
    "Example to be added soon...\n",
    "\n",
    "### Changing the surface and basal temperatures\n",
    "\n",
    "Example to be added soon...\n",
    "\n",
    "### Adding initial holding time for thermal histories\n",
    "\n",
    "Example to be added soon...\n",
    "\n",
    "### Calculating past ages\n",
    "\n",
    "As above, we will use the first erosion case to demonstrate how the plot past ages. In this case, the ages will be calculated every 5 Myr and an additional plot will be produced. The model parameters in this case are:\n",
    "\n",
    "- Erosion model: 1 (`ero_type=1`)\n",
    "- Erosion magnitude: 20 km (`ero_option1=20.0`)\n",
    "- Increment for plotting past ages: 2 Myr (`past_age_increment=2.0`)"
   ]
  },
  {
   "cell_type": "code",
   "execution_count": null,
   "id": "0f1f2bb4-be27-4768-aa4f-cd0ad3fe9a00",
   "metadata": {
    "tags": []
   },
   "outputs": [],
   "source": [
    "params = tc1d.init_params(ero_type=1, ero_option1=20.0, past_age_increment=2.0)\n",
    "tc1d.prep_model(params)"
   ]
  },
  {
   "cell_type": "markdown",
   "id": "6446d8b8-57c7-4bd6-812c-81da907f67c2",
   "metadata": {},
   "source": [
    "### Plotting solidii\n",
    "\n",
    "Example to be added soon...\n",
    "\n",
    "### Plotting measured ages and calculating misfits\n",
    "\n",
    "As above, we'll once again use the first erosion model example here with some fake age data to demonstrate how to use measured ages and calculate a misfit. The model parameters are:\n",
    "\n",
    "- Erosion model: 1 (`ero_type=1`)\n",
    "- Erosion magnitude: 20 km (`ero_option1=20.0`)\n",
    "- Measured apatite (U-Th)/He ages: 7.4, 5.9 Ma (`obs_ahe=[7.4, 5.9]`)\n",
    "- Measured apatite (U-Th)/He standard deviations: 0.5, 0.9 Ma (`obs_ahe_stdev=[0.5, 0.9]`)\n",
    "- Measured apatite fission-track age: 14.2 Ma (`obs_aft=[14.2]`)\n",
    "- Measured apatite fission-track standard deviation: 2.1 Ma (`obs_aft_stdev=[2.1]`)\n",
    "- Measured zircon (U-Th)/He age: 16.4 Ma (`obs_zhe=[16.4]`)\n",
    "- Measured zircon (U-Th)/He standard deviation: 1.3 Ma (`obs_zhe_stdev=[1.3]`)\n",
    "- Measured zircon fission-track age: 42.1 Ma (`obs_zft=[42.1]`)\n",
    "- Measured zircon fission-track standard deviation: 5.3 Ma (`obs_zft_stdev=[5.3]`)\n",
    "- Misfit type: 1 (`misfit_type=1`)\n",
    "\n",
    "**Note**: The measured age values must be enclosed in square brackets `[` and `]`. If you have more than one age you can separate the ages within the brackets by commas."
   ]
  },
  {
   "cell_type": "code",
   "execution_count": null,
   "id": "00984208-bc64-4bb5-8dc9-07dca273578d",
   "metadata": {
    "tags": []
   },
   "outputs": [],
   "source": [
    "params = tc1d.init_params(\n",
    "    ero_type=1,\n",
    "    ero_option1=20.0,\n",
    "    obs_ahe=[7.4, 5.9],\n",
    "    obs_ahe_stdev=[0.5, 0.9],\n",
    "    obs_aft=[14.2],\n",
    "    obs_aft_stdev=[2.1],\n",
    "    obs_zhe=[16.4],\n",
    "    obs_zhe_stdev=[1.3],\n",
    "    obs_zft=[42.1],\n",
    "    obs_zft_stdev=[5.3],\n",
    "    misfit_type=1,\n",
    ")\n",
    "tc1d.prep_model(params)"
   ]
  },
  {
   "cell_type": "markdown",
   "id": "89b236d9-97f6-49ff-9a4c-e2a203c629b3",
   "metadata": {},
   "source": [
    "# Details on model parameters\n",
    "\n",
    "```\n",
    "General options:\n",
    "  Options for various general features\n",
    "\n",
    "echo_inputs         Print input values to the screen (default: False)\n",
    "echo_info           Print basic model info to the screen (default: True)\n",
    "echo_thermal_info   Print thermal model info to the screen (default: True)\n",
    "echo_ages           Print calculated thermochronometer age(s) to the screen\n",
    "                    (default: True)\n",
    "debug               Enable debug output (default: False)\n",
    "\n",
    "Geometry and time options:\n",
    "  Options for the model geometry and run time\n",
    "\n",
    "length LENGTH [LENGTH ...]\n",
    "                    Model depth extent (km) (default: 125.0)\n",
    "nx NX [NX ...]      Number of grid points for temperature calculation\n",
    "                    (default: 251)\n",
    "time TIME [TIME ...]\n",
    "                    Total simulation time (Myr) (default: 50.0)\n",
    "dt DT [DT ...]      Time step (years) (default: 5000.0)\n",
    "init_moho_depth INIT_MOHO_DEPTH [INIT_MOHO_DEPTH ...]\n",
    "                    Initial depth of Moho (km) (default: 50.0)\n",
    "crustal_uplift      Uplift only the crust in the thermal model (default: False)\n",
    "fixed_moho          Do not update Moho depth (default: False)\n",
    "removal_fraction REMOVAL_FRACTION [REMOVAL_FRACTION ...]\n",
    "                    Fraction of lithospheric mantle to remove (default: 0.0)\n",
    "removal_time REMOVAL_TIME [REMOVAL_TIME ...]\n",
    "                    Time to remove lithospheric mantle in Ma (default: 0.0)\n",
    "\n",
    "Material options:\n",
    "  Options for the model materials\n",
    "\n",
    "rho_crust RHO_CRUST [RHO_CRUST ...]\n",
    "                    Crustal density (kg/m^3) (default: 2850.0)\n",
    "cp_crust CP_CRUST [CP_CRUST ...]\n",
    "                    Crustal heat capacity (J/kg/K) (default: 800.0)\n",
    "k_crust K_CRUST [K_CRUST ...]\n",
    "                    Crustal thermal conductivity (W/m/K) (default: 2.75)\n",
    "heat_prod_crust HEAT_PROD_CRUST [HEAT_PROD_CRUST ...]\n",
    "                    Crustal heat production (uW/m^3) (default: 0.5)\n",
    "alphav_crust ALPHAV_CRUST [ALPHAV_CRUST ...]\n",
    "                    Crustal coefficient of thermal expansion (km)\n",
    "                    (default: 3e-05)\n",
    "rho_mantle RHO_MANTLE [RHO_MANTLE ...]\n",
    "                    Mantle lithosphere density (kg/m^3) (default: 3250.0)\n",
    "cp_mantle CP_MANTLE [CP_MANTLE ...]\n",
    "                    Mantle lithosphere heat capacity (J/kg/K) (default: 1000.0)\n",
    "k_mantle K_MANTLE [K_MANTLE ...]\n",
    "                    Mantle lithosphere thermal conductivity (W/m/K)\n",
    "                    (default: 2.5)\n",
    "heat_prod_mantle HEAT_PROD_MANTLE [HEAT_PROD_MANTLE ...]\n",
    "                    Mantle lithosphere heat production (uW/m^3) (default: 0.0)\n",
    "alphav_mantle ALPHAV_MANTLE [ALPHAV_MANTLE ...]\n",
    "                    Mantle lithosphere coefficient of thermal expansion (km)\n",
    "                    (default: 3e-05)\n",
    "rho_a RHO_A [RHO_A ...]\n",
    "                    Mantle asthenosphere density (kg/m^3) (default: 3250.0)\n",
    "k_a K_A [K_A ...]   Mantle asthenosphere thermal conductivity (W/m/K)\n",
    "                    (default: 20.0)\n",
    "\n",
    "Thermal model options:\n",
    "  Options for the thermal model\n",
    "\n",
    "implicit            Use implicit finite-difference calculation (default: True)\n",
    "temp_surf TEMP_SURF [TEMP_SURF ...]\n",
    "                    Surface boundary condition temperature (C) (default: 0.0)\n",
    "temp_base TEMP_BASE [TEMP_BASE ...]\n",
    "                    Basal boundary condition temperature (C) (default: 1300.0)\n",
    "mantle_adiabat MANTLE_ADIABAT [MANTLE_ADIABAT ...]\n",
    "                    Use adiabat for asthenosphere temperature (default: True)\n",
    "\n",
    "Erosion model options:\n",
    "  Options for the erosion model\n",
    "\n",
    "vx_init VX_INIT [VX_INIT ...]\n",
    "                    Initial steady_state advection velocity (mm/yr)\n",
    "                    (default: 0.0)\n",
    "ero_type ERO_TYPE [ERO_TYPE ...]\n",
    "                    Type of erosion model (1, 2, 3, 4, 5 - see GitHub\n",
    "                    docs) (default: 1)\n",
    "ero_option1 ERO_OPTION1 [ERO_OPTION1 ...]\n",
    "                    Erosion model option 1 (see GitHub docs) (default: 0.0)\n",
    "ero_option2 ERO_OPTION2 [ERO_OPTION2 ...]\n",
    "                    Erosion model option 2 (see GitHub docs) (default: 0.0)\n",
    "ero_option3 ERO_OPTION3 [ERO_OPTION3 ...]\n",
    "                    Erosion model option 3 (see GitHub docs) (default: 0.0)\n",
    "ero_option4 ERO_OPTION4 [ERO_OPTION4 ...]\n",
    "                    Erosion model option 4 (see GitHub docs) (default: 0.0)\n",
    "ero_option5 ERO_OPTION5 [ERO_OPTION5 ...]\n",
    "                    Erosion model option 5 (see GitHub docs) (default: 0.0)\n",
    "\n",
    "Age prediction options:\n",
    "  Options for age prediction\n",
    "\n",
    "calc_ages           Calculate thermochronometer ages (default: True)\n",
    "ketch_aft           Use the Ketcham et al. (2007) for predicting FT ages\n",
    "                    (default: True)\n",
    "madtrax_aft         Use MadTrax algorithm for predicting apatite FT ages\n",
    "                    (default: False)\n",
    "madtrax_aft_kinetic_model {1,2,3}\n",
    "                    Kinetic model to use for AFT age prediction with\n",
    "                    MadTrax (see GitHub docs) (default: 1)\n",
    "madtrax_zft_kinetic_model {1,2}\n",
    "                    Kinetic model to use for ZFT age prediction with\n",
    "                    MadTrax (see GitHub docs) (default: 1)\n",
    "ap_rad AP_RAD [AP_RAD ...]\n",
    "                    Apatite grain radius (um) (default: 45.0)\n",
    "ap_uranium AP_URANIUM [AP_URANIUM ...]\n",
    "                    Apatite U concentration (ppm) (default: 10.0)\n",
    "ap_thorium AP_THORIUM [AP_THORIUM ...]\n",
    "                    Apatite Th concentration radius (ppm) (default: 40.0)\n",
    "zr_rad ZR_RAD [ZR_RAD ...]\n",
    "                    Zircon grain radius (um) (default: 60.0)\n",
    "zr_uranium ZR_URANIUM [ZR_URANIUM ...]\n",
    "                    Zircon U concentration (ppm) (default: 100.0)\n",
    "zr_thorium ZR_THORIUM [ZR_THORIUM ...]\n",
    "                    Zircon Th concentration radius (ppm) (default: 40.0)\n",
    "pad_thist PAD_THIST [PAD_THIST ...]\n",
    "                    Add time at starting temperature in t_T history\n",
    "                    (default: False)\n",
    "pad_time PAD_TIME [PAD_TIME ...]\n",
    "                    Additional time at starting temperature in t_T history\n",
    "                    (Myr) (default: 0.0)\n",
    "past_age_increment PAST_AGE_INCREMENT\n",
    "                    Time increment in past (in Ma) at which ages should be\n",
    "                    calculated (default: 0.0)\n",
    "\n",
    "Age comparison options:\n",
    "  Options for age comparison\n",
    "\n",
    "obs_ahe OBS_AHE [OBS_AHE ...]\n",
    "                    Measured apatite (U_Th)/He age(s) (Ma) (default: )\n",
    "obs_ahe_stdev OBS_AHE_STDEV [OBS_AHE_STDEV ...]\n",
    "                    Measured apatite (U_Th)/He age standard deviation(s)\n",
    "                    (Ma) (default: )\n",
    "obs_aft OBS_AFT [OBS_AFT ...]\n",
    "                    Measured apatite fission_track age(s) (Ma) (default: )\n",
    "obs_aft_stdev OBS_AFT_STDEV [OBS_AFT_STDEV ...]\n",
    "                    Measured apatite fission_track age standard\n",
    "                    deviation(s) (Ma) (default: )\n",
    "obs_zhe OBS_ZHE [OBS_ZHE ...]\n",
    "                    Measured zircon (U_Th)/He age(s) (Ma) (default: )\n",
    "obs_zhe_stdev OBS_ZHE_STDEV [OBS_ZHE_STDEV ...]\n",
    "                    Measured zircon (U_Th)/He age standard deviation(s)\n",
    "                    (Ma) (default: )\n",
    "obs_zft OBS_ZFT [OBS_ZFT ...]\n",
    "                    Measured zircon fission_track age(s) (Ma) (default: )\n",
    "obs_zft_stdev OBS_ZFT_STDEV [OBS_ZFT_STDEV ...]\n",
    "                    Measured zircon fission_track age standard\n",
    "                    deviation(s) (Ma) (default: )\n",
    "misfit_num_params MISFIT_NUM_PARAMS\n",
    "                    Number of model parameters to use in misfit\n",
    "                    calculation (default: 0)\n",
    "misfit_type MISFIT_TYPE\n",
    "                    Misfit type for misfit calculation (default: 1)\n",
    "\n",
    "Plotting options:\n",
    "  Options for plotting\n",
    "\n",
    "plot_results        Plot calculated temperatures and densities (default: True)\n",
    "no_display_plots    Do not display plots on screen (default: False)\n",
    "t_plots T_PLOTS [T_PLOTS ...]\n",
    "                    Output times for temperature plotting (Myrs). Treated\n",
    "                    as increment if only one value given.\n",
    "                    (default: [0.1, 1, 5, 10, 20, 30, 50])\n",
    "crust_solidus       Calculate and plot a crustal solidus (default: False)\n",
    "crust_solidus_comp CRUST_SOLIDUS_COMP\n",
    "                    Crustal composition for solidus (default:\n",
    "                    wet_intermediate)\n",
    "mantle_solidus      Calculate and plot a mantle solidus (default: False)\n",
    "mantle_solidus_xoh MANTLE_SOLIDUS_XOH\n",
    "                    Water content for mantle solidus calculation (ppm)\n",
    "                    (default: 0.0)\n",
    "solidus_ranges      Plot ranges for the crustal and mantle solidii\n",
    "                    (default: False)\n",
    "\n",
    "Output options:\n",
    "  Options for saving output to files\n",
    "\n",
    "log_output          Write model summary info to a csv file (default: False)\n",
    "log_file LOG_FILE   CSV file for log output (default: )\n",
    "model_id MODEL_ID   Model identification character string (default: )\n",
    "write_temps         Save model temperatures to a file (default: False)\n",
    "write_past_ages     Write out incremental past ages to csv file (default: False)\n",
    "save_plots          Save plots to a file (default: False)\n",
    "\n",
    "Advanced options:\n",
    "  Options for advanced users\n",
    "\n",
    "read_temps          Read temperatures from a file (default: False)\n",
    "compare_temps       Compare model temperatures to those from a file (default: False)\n",
    "```"
   ]
  },
  {
   "cell_type": "markdown",
   "id": "1100a5f2-ddba-4dd8-beb8-9520e4abc155",
   "metadata": {},
   "source": [
    "# Frequently asked questions\n",
    "\n",
    "Coming soon..."
   ]
  }
 ],
 "metadata": {
  "kernelspec": {
   "display_name": "Python 3 (ipykernel)",
   "language": "python",
   "name": "python3"
  },
  "language_info": {
   "codemirror_mode": {
    "name": "ipython",
    "version": 3
   },
   "file_extension": ".py",
   "mimetype": "text/x-python",
   "name": "python",
   "nbconvert_exporter": "python",
   "pygments_lexer": "ipython3",
   "version": "3.10.9"
  }
 },
 "nbformat": 4,
 "nbformat_minor": 5
}
